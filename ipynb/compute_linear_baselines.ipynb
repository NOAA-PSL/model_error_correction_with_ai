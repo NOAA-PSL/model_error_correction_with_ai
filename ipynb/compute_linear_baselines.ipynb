{
 "cells": [
  {
   "cell_type": "code",
   "execution_count": 1,
   "id": "39fb1c3e",
   "metadata": {},
   "outputs": [],
   "source": [
    "import numpy as np\n",
    "from IPython.display import display\n",
    "import matplotlib.pyplot as plt\n"
   ]
  },
  {
   "cell_type": "code",
   "execution_count": 2,
   "id": "89faedab",
   "metadata": {},
   "outputs": [],
   "source": [
    "def load_nn(tspec): \n",
    "    magic_line=\"4_1_4096_3_0.25_8_mse_0.0001_0.05_sub_{}_{}_{}.npy\".format(\n",
    "    tspec['training_day'],tspec['training_validation_length'],tspec['validation_split'])\n",
    "    fn = 'npys/ypred_conv2d_tpsuvq_online_'+varn+'_'+magic_line\n",
    "    print(fn)\n",
    "    y_pred_nn = np.load(fn)\n",
    "    return y_pred_nn"
   ]
  },
  {
   "cell_type": "code",
   "execution_count": 3,
   "id": "ca8dbbbe",
   "metadata": {},
   "outputs": [],
   "source": [
    "def load_linear(ts, y, start_day, end_day):\n",
    "    y_shape=y.shape\n",
    "    y_pred_linear = np.empty(y_shape)\n",
    "        \n",
    "    #loop over 4 timeslots in one day\n",
    "    for offset in range(4):\n",
    "        y_avv=np.mean(y[np.where(ts==start_day)[0][0]+offset:np.where(ts==end_day)[0][0]:4],axis=0)\n",
    "        num_inserts=ts[offset:None:4].shape[0]\n",
    "        y_pred_linear[offset:None:4,...]=np.repeat(y_avv[np.newaxis,:,:,:],num_inserts,axis=0)\n",
    "\n",
    "    return y_pred_linear"
   ]
  },
  {
   "cell_type": "code",
   "execution_count": 4,
   "id": "cf7c655c",
   "metadata": {},
   "outputs": [],
   "source": [
    "def compute_skill(y, y_pred, ts, training_day, pred_window):\n",
    "    y_pred_ts=y_pred.view().reshape((y.shape[0], np.prod(y.shape[1:])))\n",
    "    y_ts=y.view().reshape((y.shape[0], np.prod(y.shape[1:])))\n",
    "    \n",
    "    tmp = 1-np.mean((y_pred_ts-y_ts)**2,axis=1)/np.mean((y_ts)**2,axis=1)\n",
    "    skill = np.mean(tmp[np.where(ts==training_day)[0][0]+pred_window[0]:np.where(ts==training_day)[0][0]+pred_window[1]])\n",
    "    return skill"
   ]
  },
  {
   "cell_type": "code",
   "execution_count": 5,
   "id": "7bbdf5ac",
   "metadata": {},
   "outputs": [],
   "source": [
    "#paramenter block \n",
    "varn='t'\n",
    "training_lengths=np.array([1, 3, 7, 14, 30, 90, 365])\n",
    "training_day=375\n",
    "pred_window=np.array([0 ,14])\n",
    "\n"
   ]
  },
  {
   "cell_type": "code",
   "execution_count": 6,
   "id": "eb7d7c59",
   "metadata": {},
   "outputs": [],
   "source": [
    "#load truth \n",
    "tspec=dict()\n",
    "tspec['training_day']=375\n",
    "tspec['training_validation_length']=365\n",
    "tspec['validation_split']=0.7\n",
    "magic_line=\"4_1_4096_3_0.25_8_mse_0.0001_0.05_sub_{}_{}_{}.npy\".format(\n",
    "    tspec['training_day'],tspec['training_validation_length'],tspec['validation_split'])\n",
    "\n",
    "y = np.load('npys/y_conv2d_tpsuvq_online_'+varn+'_'+magic_line)\n",
    "ts = np.arange(y.shape[0])/4\n"
   ]
  },
  {
   "cell_type": "code",
   "execution_count": 7,
   "id": "81788ad0",
   "metadata": {},
   "outputs": [],
   "source": [
    "#compute y linear\n",
    "y_pred_linear=[]\n",
    "for i in range(1,training_lengths.size):\n",
    "    start_day = training_day-training_lengths[i]\n",
    "    end_day = training_day\n",
    "    y_pred_linear.append(load_linear(ts, y, start_day, end_day))\n",
    "\n",
    "#use entire previous season\n",
    "min_day=10\n",
    "start_day=max(min_day,training_day-(365+45))\n",
    "end_day=start_day+90\n",
    "y_pred_linear_baseline = load_linear(ts, y, start_day, end_day)"
   ]
  },
  {
   "cell_type": "code",
   "execution_count": 8,
   "id": "0736d57e",
   "metadata": {},
   "outputs": [
    {
     "data": {
      "text/plain": [
       "array([        nan, -0.12795166,  0.02349841,  0.08145935, -0.01023012,\n",
       "        0.05858415,  0.04450424])"
      ]
     },
     "metadata": {},
     "output_type": "display_data"
    }
   ],
   "source": [
    "# compute linear skill\n",
    "skill_linear=np.zeros(training_lengths.size);skill_linear.fill(np.nan)\n",
    "for i in range(len(y_pred_linear)):\n",
    "    skill_linear[i+1]=compute_skill(y, y_pred_linear[i], ts, training_day, pred_window) \n",
    "display(skill_linear)"
   ]
  },
  {
   "cell_type": "code",
   "execution_count": 9,
   "id": "24c76c26",
   "metadata": {},
   "outputs": [],
   "source": [
    "#compute linear skill for seasonal baseline\n",
    "skill_linear_baseline = compute_skill(y, y_pred_linear_baseline, ts, training_day, pred_window)\n",
    "skill_linear_baseline2 = compute_skill(y, y_pred_linear_baseline, ts, training_day, pred_window+14)"
   ]
  },
  {
   "cell_type": "code",
   "execution_count": 10,
   "id": "f0ea8121",
   "metadata": {},
   "outputs": [
    {
     "name": "stdout",
     "output_type": "stream",
     "text": [
      "npys/ypred_conv2d_tpsuvq_online_t_4_1_4096_3_0.25_8_mse_0.0001_0.05_sub_375_1_0.7.npy\n",
      "npys/ypred_conv2d_tpsuvq_online_t_4_1_4096_3_0.25_8_mse_0.0001_0.05_sub_375_3_0.7.npy\n",
      "npys/ypred_conv2d_tpsuvq_online_t_4_1_4096_3_0.25_8_mse_0.0001_0.05_sub_375_7_0.7.npy\n",
      "npys/ypred_conv2d_tpsuvq_online_t_4_1_4096_3_0.25_8_mse_0.0001_0.05_sub_375_14_0.7.npy\n",
      "npys/ypred_conv2d_tpsuvq_online_t_4_1_4096_3_0.25_8_mse_0.0001_0.05_sub_375_30_0.7.npy\n",
      "npys/ypred_conv2d_tpsuvq_online_t_4_1_4096_3_0.25_8_mse_0.0001_0.05_sub_375_90_0.7.npy\n",
      "npys/ypred_conv2d_tpsuvq_online_t_4_1_4096_3_0.25_8_mse_0.0001_0.05_sub_375_365_0.7.npy\n"
     ]
    }
   ],
   "source": [
    "# load NN results\n",
    "y_pred_nn=[]\n",
    "for i in range(training_lengths.size):\n",
    "  tspec['training_validation_length']=training_lengths[i]\n",
    "  y_pred_nn.append(load_nn(tspec))\n"
   ]
  },
  {
   "cell_type": "code",
   "execution_count": 11,
   "id": "e72715e9",
   "metadata": {},
   "outputs": [
    {
     "data": {
      "text/plain": [
       "array([0.05592212, 0.07012581, 0.09306722, 0.10502612, 0.03575703,\n",
       "       0.12870023, 0.14925119])"
      ]
     },
     "metadata": {},
     "output_type": "display_data"
    }
   ],
   "source": [
    "# compute NN skill for week 1-2\n",
    "skill_nn=np.zeros(training_lengths.size);skill_nn.fill(np.nan)\n",
    "for i in range(training_lengths.size):\n",
    "  skill_nn[i]=compute_skill(y, y_pred_nn[i], ts, training_day, pred_window)\n",
    "display(skill_nn)"
   ]
  },
  {
   "cell_type": "code",
   "execution_count": 12,
   "id": "e46a9bc9",
   "metadata": {},
   "outputs": [
    {
     "data": {
      "text/plain": [
       "array([0.03441801, 0.04035707, 0.0694627 , 0.08093508, 0.0279917 ,\n",
       "       0.10679408, 0.14581946])"
      ]
     },
     "metadata": {},
     "output_type": "display_data"
    }
   ],
   "source": [
    "# compute NN skill for week 3-4\n",
    "skill_nn2=np.zeros(training_lengths.size);skill_nn2.fill(np.nan)\n",
    "for i in range(training_lengths.size):\n",
    "  skill_nn2[i]=compute_skill(y, y_pred_nn[i], ts, training_day, pred_window+14)\n",
    "display(skill_nn2)"
   ]
  },
  {
   "cell_type": "code",
   "execution_count": 13,
   "id": "2dfa571b",
   "metadata": {},
   "outputs": [
    {
     "data": {
      "text/plain": [
       "<matplotlib.legend.Legend at 0x7f54b4793370>"
      ]
     },
     "execution_count": 13,
     "metadata": {},
     "output_type": "execute_result"
    },
    {
     "data": {
      "image/png": "[encoded data removed]",
      "text/plain": [
       "<Figure size 640x480 with 1 Axes>"
      ]
     },
     "metadata": {},
     "output_type": "display_data"
    }
   ],
   "source": [
    "fig, ax = plt.subplots()\n",
    "ax.plot(skill_nn,'bo-')\n",
    "ax.plot(skill_nn2,'ro-')\n",
    "#ax.plot(skill_linear,'mo-')\n",
    "ax.plot(np.array([0, skill_nn.size]), skill_linear_baseline*np.array([1, 1]),'g:')\n",
    "ax.plot(np.array([0, skill_nn.size]), skill_linear_baseline2*np.array([1, 1]),'g--')\n",
    "ax.set_ylim(-0.0,0.2)\n",
    "ax.set_xticks(range(training_lengths.size))\n",
    "ax.set_xticklabels(training_lengths.astype('str'))\n",
    "ax.set_xlabel('Training days')\n",
    "ax.set_ylabel('skill [% explained]')\n",
    "ax.set_title(f\"skill for {varn}\")\n",
    "ax.legend(['NN week 1-2','NN week 3-4','linear week 1-2','linear week 3-4'])"
   ]
  }
 ],
 "metadata": {
  "kernelspec": {
   "display_name": "Python 3 (ipykernel)",
   "language": "python",
   "name": "python3"
  },
  "language_info": {
   "codemirror_mode": {
    "name": "ipython",
    "version": 3
   },
   "file_extension": ".py",
   "mimetype": "text/x-python",
   "name": "python",
   "nbconvert_exporter": "python",
   "pygments_lexer": "ipython3",
   "version": "3.9.13"
  }
 },
 "nbformat": 4,
 "nbformat_minor": 5
}
